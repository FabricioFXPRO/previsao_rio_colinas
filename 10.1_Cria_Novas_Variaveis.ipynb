{
 "cells": [
  {
   "cell_type": "code",
   "execution_count": 6,
   "metadata": {},
   "outputs": [
    {
     "name": "stdout",
     "output_type": "stream",
     "text": [
      "    Data_Hora_Medicao  Cota_Adotada_86510000  Vazao_Adotada_86510000  \\\n",
      "1 2019-01-01 01:00:00                  173.0                   150.3   \n",
      "2 2019-01-01 02:00:00                  171.0                   146.8   \n",
      "3 2019-01-01 03:00:00                  170.0                   145.1   \n",
      "4 2019-01-01 04:00:00                  169.0                   143.4   \n",
      "5 2019-01-01 05:00:00                  168.0                   141.7   \n",
      "\n",
      "   Dif_Cota86510000  Dif_Vazao86510000  Hora  \n",
      "1              -2.0               -3.5     1  \n",
      "2              -2.0               -3.5     2  \n",
      "3              -1.0               -1.7     3  \n",
      "4              -1.0               -1.7     4  \n",
      "5              -1.0               -1.7     5  \n"
     ]
    }
   ],
   "source": [
    "import pandas as pd\n",
    "\n",
    "file_path = '0001_Master.csv'  \n",
    "data = pd.read_csv(file_path)\n",
    "\n",
    "# Criar as novas colunas 'Dif_Cota86510000' e 'Dif_Vazao86510000' calculando a diferença do valor anterior\n",
    "data['Dif_Cota86510000'] = data['Cota_Adotada_86510000'].diff()\n",
    "data['Dif_Vazao86510000'] = data['Vazao_Adotada_86510000'].diff()\n",
    "\n",
    "# Converter a coluna 'Data_Hora_Medicao' para datetime e extrair a hora\n",
    "data['Data_Hora_Medicao'] = pd.to_datetime(data['Data_Hora_Medicao'])\n",
    "data['Hora'] = data['Data_Hora_Medicao'].dt.hour\n",
    "\n",
    "#Remove as linhas com NaN\n",
    "data = data.dropna()\n",
    "\n",
    "# Exibir as primeiras linhas do dataframe para verificar os resultados\n",
    "print(data[['Data_Hora_Medicao', 'Cota_Adotada_86510000', 'Vazao_Adotada_86510000', 'Dif_Cota86510000', 'Dif_Vazao86510000', 'Hora']].head())\n",
    "\n",
    "\n",
    "data.to_csv('0001_Master_modificado.csv', index=False)\n"
   ]
  }
 ],
 "metadata": {
  "kernelspec": {
   "display_name": "Python 3",
   "language": "python",
   "name": "python3"
  },
  "language_info": {
   "codemirror_mode": {
    "name": "ipython",
    "version": 3
   },
   "file_extension": ".py",
   "mimetype": "text/x-python",
   "name": "python",
   "nbconvert_exporter": "python",
   "pygments_lexer": "ipython3",
   "version": "3.11.4"
  }
 },
 "nbformat": 4,
 "nbformat_minor": 2
}
